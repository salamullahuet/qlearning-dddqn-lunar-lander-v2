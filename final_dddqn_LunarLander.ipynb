{
 "cells": [
  {
   "cell_type": "markdown",
   "metadata": {},
   "source": [
    "# Dueling Double Deep Q Network (DDDQN)"
   ]
  },
  {
   "cell_type": "markdown",
   "metadata": {},
   "source": [
    "# imports"
   ]
  },
  {
   "cell_type": "code",
   "execution_count": 1,
   "metadata": {},
   "outputs": [
    {
     "name": "stdout",
     "output_type": "stream",
     "text": [
      "Collecting box2d\n",
      "  Downloading https://files.pythonhosted.org/packages/f0/fe/143cc8dcbee290eac1d7b89a6ce470de2f6569bc24a8de31c1b80a15957c/Box2D-2.3.10-cp37-cp37m-win_amd64.whl (1.3MB)\n",
      "Installing collected packages: box2d\n",
      "Successfully installed box2d-2.3.10\n"
     ]
    }
   ],
   "source": [
    "\n",
    "import numpy as np\n",
    "from collections import deque\n",
    "import matplotlib.pyplot as plt\n",
    "import pandas as pd\n",
    "import torch\n",
    "import torch.nn as nn\n",
    "import torch.nn.functional as F\n",
    "import time\n",
    "import gym\n",
    "import random\n",
    "import torch\n",
    "from IPython import display\n",
    "from collections import namedtuple\n",
    "\n",
    "import torch\n",
    "import torch.nn.functional as F\n",
    "import torch.optim as optim\n",
    "\n",
    "%matplotlib inline\n",
    "\n",
    "!pip install box2d"
   ]
  },
  {
   "cell_type": "markdown",
   "metadata": {},
   "source": [
    "# Memory - Replay Buffer"
   ]
  },
  {
   "cell_type": "code",
   "execution_count": 2,
   "metadata": {},
   "outputs": [],
   "source": [
    "\n",
    "class Replay_Buffer:\n",
    "    def __init__(self, action_size, buffer_size, batch_size, seed):\n",
    "        self.action_size = action_size\n",
    "        self.buffer = deque(maxlen=buffer_size)  \n",
    "        self.batch_size = batch_size\n",
    "        self.experience = namedtuple(\"Experience\", field_names=[\"state\", \"action\", \"reward\", \"next_state\", \"done\"])\n",
    "        self.seed = random.seed(seed)\n",
    "\n",
    "    def add(self, state, action, reward, next_state, done):        \n",
    "         experience = self.experience(state, action, reward, next_state, done)\n",
    "         self.buffer.append(experience)\n",
    "    \n",
    "    def sample(self):\n",
    "        indices = np.random.choice(len(self.buffer), self.batch_size, replace=False)\n",
    "        states, actions, rewards, next_states, dones = zip(*[self.buffer[idx] for idx in indices])\n",
    "        states = np.array(states)\n",
    "        actions = np.array(actions)\n",
    "        rewards = np.array(rewards, dtype=np.float32)\n",
    "        next_states = np.array(next_states)\n",
    "        dones = np.array(dones, dtype=np.uint8)\n",
    "        return (states, actions, rewards, next_states, dones)\n",
    "       \n",
    "    def __len__(self):\n",
    "        return len(self.buffer)"
   ]
  },
  {
   "cell_type": "markdown",
   "metadata": {},
   "source": [
    "# Dueling Double Deep Q Network"
   ]
  },
  {
   "cell_type": "code",
   "execution_count": 3,
   "metadata": {},
   "outputs": [],
   "source": [
    "class DuelingQNetwork(nn.Module):\n",
    "    \n",
    "    def __init__(self, state_size, action_size, seed):\n",
    "        super(DuelingQNetwork, self).__init__() #Because we use the nn.Module\n",
    "        self.seed = torch.manual_seed(seed)\n",
    "        \n",
    "        # Set the feature layer with its activation functions\n",
    "        self.feature_layers = nn.Sequential(nn.Linear(state_size, 256)\n",
    "                                            , nn.ReLU() \n",
    "                                            , nn.Linear(256, 128)\n",
    "                                            , nn.ReLU() \n",
    "                                            , nn.Linear(128, 128) \n",
    "                                            , nn.ReLU())\n",
    "        \n",
    "        # Set the advantage layer with its activation functions\n",
    "        self.advantage_layers = nn.Sequential(nn.Linear(128, 128)\n",
    "                                             , nn.ReLU()\n",
    "                                             , nn.Linear(128, action_size))\n",
    "        \n",
    "        # Set the value layer with its activation functions\n",
    "        self.value_layers = nn.Sequential(nn.Linear(128, 128)\n",
    "                                          , nn.ReLU()\n",
    "                                          , nn.Linear(128, 1))\n",
    "        \n",
    "    def forward(self, state):\n",
    "        feature = self.feature_layers(state)\n",
    "        advantage = self.advantage_layers(feature)\n",
    "        value = self.value_layers(feature)\n",
    "        action = value + advantage - advantage.mean()\n",
    "        return action"
   ]
  },
  {
   "cell_type": "markdown",
   "metadata": {},
   "source": [
    "# Agent"
   ]
  },
  {
   "cell_type": "code",
   "execution_count": 4,
   "metadata": {},
   "outputs": [],
   "source": [
    "device = torch.device(\"cuda:0\" if torch.cuda.is_available() else \"cpu\")\n",
    "\n",
    "class Agent():\n",
    "    def __init__(self, state_size, action_size, seed, buffer_size = 1000000, batch_size = 64, target_update_per_steps = 4,\n",
    "                  gamma = 0.996, alpha = 0.0005, tau = 0.01):\n",
    "        \n",
    "        self.state_size = state_size\n",
    "        self.action_size = action_size\n",
    "        self.seed = random.seed(seed)\n",
    "        self.buffer = Replay_Buffer(action_size, buffer_size, batch_size, seed)\n",
    "        self.batch_size = batch_size\n",
    "        self.target_update_per_steps = target_update_per_steps\n",
    "        self.gamma = gamma\n",
    "        self.alpha = alpha\n",
    "        self.tau = tau\n",
    "\n",
    "        # Online network for action selection\n",
    "        self.q_network_main = DuelingQNetwork(state_size, action_size, seed).to(device)\n",
    "        # Target network for action evaluation \n",
    "        self.qnetwork_target = DuelingQNetwork(state_size, action_size, seed).to(device)\n",
    "        # Adam stochastic optimization algorithm for network weights update\n",
    "        self.optimizer = optim.Adam(self.q_network_main.parameters(), lr=self.alpha)\n",
    "\n",
    "        # Initialize time step (for updating every target_update_per_steps)\n",
    "        self.t_step = 0\n",
    "\n",
    "    def action_selection(self, state, epsilon=0.):\n",
    "        \n",
    "        # select action from the input state\n",
    "        state = torch.from_numpy(state).float().unsqueeze(0).to(device)\n",
    "        self.q_network_main.eval()\n",
    "        # operations of the block have no gradients\n",
    "        with torch.no_grad():\n",
    "            action_values = self.q_network_main(state)\n",
    "        self.q_network_main.train()\n",
    "\n",
    "        # Epsilon-greedy action selection\n",
    "        random_num = random.random()\n",
    "        if random_num > epsilon:\n",
    "            return np.argmax(action_values.cpu().data.numpy())\n",
    "        else:\n",
    "            return random.choice(np.arange(self.action_size))\n",
    "\n",
    "    def execute_action(self, state, action, reward, next_state, done):\n",
    "        # Save experience in replay memory\n",
    "        self.buffer.add(state, action, reward, next_state, done)\n",
    "        \n",
    "        # Learn every UPDATE_EVERY time steps.\n",
    "        self.t_step = (self.t_step + 1) % self.target_update_per_steps\n",
    "        if self.t_step == 0:\n",
    "            # If enough samples are available in memory, get random subset and learn\n",
    "            if len(self.buffer) > self.batch_size:\n",
    "                experiences = self.buffer.sample()\n",
    "                self.learn_DDQN(experiences)\n",
    "\n",
    "    \n",
    "    def learn_DDQN(self, experiences):\n",
    "        states, actions, rewards, next_states, dones = experiences\n",
    "        # Convert array to torch tensors\n",
    "        states = torch.tensor(np.array(states, copy=False)).to(device)\n",
    "        actions = torch.tensor(actions).to(device)\n",
    "        rewards = torch.tensor(rewards).to(device)\n",
    "        next_states = torch.tensor(np.array(next_states, copy=False)).to(device)\n",
    "        dones = torch.BoolTensor(dones).to(device)\n",
    "\n",
    "        actions = actions.unsqueeze(-1)\n",
    "        q_vals = self.q_network_main(states).gather(1, actions.long())\n",
    "        q_vals = q_vals.squeeze(-1)\n",
    "        # operations of the block have no gradients\n",
    "        with torch.no_grad():\n",
    "            next_state_acts = self.q_network_main(next_states).max(1)[1]\n",
    "            next_state_acts = next_state_acts.unsqueeze(-1)\n",
    "            next_state_vals = self.qnetwork_target(next_states).gather(1, next_state_acts).squeeze(-1)\n",
    "            next_state_vals[dones] = 0.0\n",
    "            exp_q_vals = rewards + self.gamma*next_state_vals.detach()\n",
    "        \n",
    "        loss = F.mse_loss(exp_q_vals, q_vals)         # Computing the loss value\n",
    "        self.optimizer.zero_grad()                    # Loss minimization\n",
    "        loss.backward()\n",
    "        self.optimizer.step()\n",
    "\n",
    "        # Update the target network using Soft Update\n",
    "        self.soft_update(self.q_network_main, self.qnetwork_target)  \n",
    "\n",
    "    def soft_update(self, local_model, target_model):\n",
    "        for target_param, local_param in zip(target_model.parameters(), local_model.parameters()):\n",
    "            target_param.data.copy_(self.tau*local_param.data + (1.0-self.tau)*target_param.data)"
   ]
  },
  {
   "cell_type": "markdown",
   "metadata": {},
   "source": [
    "# Main Part\n",
    "# Initialize the Agent's Environment"
   ]
  },
  {
   "cell_type": "code",
   "execution_count": 5,
   "metadata": {},
   "outputs": [
    {
     "name": "stdout",
     "output_type": "stream",
     "text": [
      "Actions available for the agent:  4\n",
      "The shape of the State:  (8,)\n"
     ]
    }
   ],
   "source": [
    "env = gym.make('LunarLander-v2')\n",
    "env.seed(0) #Set a Random Seed of the Environment\n",
    "print('Actions available for the agent: ', env.action_space.n)\n",
    "\n",
    "print('The shape of the State: ', env.observation_space.shape)\n",
    "\n",
    "pass"
   ]
  },
  {
   "cell_type": "code",
   "execution_count": 6,
   "metadata": {},
   "outputs": [
    {
     "name": "stdout",
     "output_type": "stream",
     "text": [
      "Episode 100\tMean payoff: -131.76\n",
      "Episode 200\tMean payoff: -47.730\n",
      "Episode 300\tMean payoff: 118.69\n",
      "Episode 400\tMean payoff: 94.565\n",
      "Episode 500\tMean payoff: 179.42\n",
      "Episode 600\tMean payoff: 15.437\n",
      "Episode 651\tMean payoff: 203.90\n",
      " The environment has been solved in 651 episodes\n"
     ]
    }
   ],
   "source": [
    "agent = Agent(state_size=8, action_size=4, seed=0)\n",
    "\n",
    "start_time= time.time()\n",
    "\n",
    "def train_agent(num_episodes=1000, max_timesteps_per_ep=1000, max_epsilon=1.0, min_epsilon=0.1, eps_decay=0.99):\n",
    "    \n",
    "    # All the payoffs (rewards) per episode \n",
    "    payoffs = []\n",
    "    # The last 100 rewards to a linked list\n",
    "    payoffs_window = deque(maxlen=100)\n",
    "    # Epsilon initialization\n",
    "    epsilon = max_epsilon              \n",
    "    sum_payoffs = 0\n",
    "    \n",
    "    #for loop for the episodes\n",
    "    for i in range(1, num_episodes+1):\n",
    "        state = env.reset()\n",
    "        payoff = 0\n",
    "        \n",
    "        for t in range(max_timesteps_per_ep):\n",
    "            action = agent.action_selection(state, epsilon) #the agent selects an action \n",
    "            next_state, reward, done, _ = env.step(action) #find the reward and the next state based on the selected action\n",
    "            agent.execute_action(state, action, reward, next_state, done)  #action execution\n",
    "            state = next_state #replace the current state with the next state\n",
    "            payoff += reward #calculate the payoff\n",
    "            if done:\n",
    "                break \n",
    "        \n",
    "        # Append the episode reward to the linked list\n",
    "        payoffs_window.append(payoff)\n",
    "        # Append the last payoff to the list\n",
    "        payoffs.append(payoff)\n",
    "        # decrease epsilon\n",
    "        epsilon = eps_decay*epsilon       \n",
    "        \n",
    "        #Calculations for total average reward\n",
    "        if(i%100 == 0):\n",
    "            num_averages = i//100 \n",
    "            sum_payoffs += np.mean(payoffs_window)\n",
    "        else:\n",
    "            sum_payoffs += np.mean(payoffs_window)\n",
    "            num_averages = (i//100)+1\n",
    "            \n",
    "        print('\\rEpisode {}\\tMean payoff: {:.2f}'.format(i, np.mean(payoffs_window)), end=\"\")\n",
    "        if i % 100 == 0:\n",
    "            print('\\rEpisode {}\\tMean payoff: {:.2f}'.format(i, np.mean(payoffs_window)))\n",
    "            \n",
    "        #If the mean reward of the last 100 episodes is equal or greater than 200, the environment has been solved    \n",
    "        if np.mean(payoffs_window)>=200.0:\n",
    "            average_payoff = sum_payoffs/num_averages\n",
    "            \n",
    "            print('\\n The environment has been solved in {:d} episodes'.format(i))\n",
    "            \n",
    "            #Saving the weights of the network in the relative file\n",
    "            torch.save(agent.q_network_main.state_dict(), 'dddqn_checkpoint.pth')\n",
    "            break\n",
    "    return payoffs\n",
    "\n",
    "#Call the previous function to save the returned payoffs\n",
    "payoffs = train_agent()\n",
    "\n",
    "end_time = time.time()\n",
    "\n",
    "#Calculate the elapsed time for the analysis\n",
    "elapsed_time = end_time-start_time"
   ]
  },
  {
   "cell_type": "markdown",
   "metadata": {},
   "source": [
    "# Plot the rewards"
   ]
  },
  {
   "cell_type": "code",
   "execution_count": 7,
   "metadata": {},
   "outputs": [
    {
     "data": {
      "image/png": "[encoded data removed]",
      "text/plain": [
       "<Figure size 432x288 with 1 Axes>"
      ]
     },
     "metadata": {
      "needs_background": "light"
     },
     "output_type": "display_data"
    }
   ],
   "source": [
    "\n",
    "fig = plt.figure()\n",
    "ax = fig.add_subplot(111)\n",
    "plt.plot(np.arange(len(payoffs)), payoffs)\n",
    "plt.ylabel('Reward')\n",
    "plt.xlabel('Episode')\n",
    "plt.show()"
   ]
  },
  {
   "cell_type": "code",
   "execution_count": 8,
   "metadata": {},
   "outputs": [
    {
     "name": "stdout",
     "output_type": "stream",
     "text": [
      "Elapsed Time 52.57480603853862 minutes\n"
     ]
    }
   ],
   "source": [
    "\n",
    "print('Elapsed Time' ,elapsed_time/60, 'minutes')"
   ]
  },
  {
   "cell_type": "code",
   "execution_count": 10,
   "metadata": {},
   "outputs": [
    {
     "data": {
      "image/png": "[encoded data removed]",
      "text/plain": [
       "<Figure size 432x288 with 1 Axes>"
      ]
     },
     "metadata": {
      "needs_background": "light"
     },
     "output_type": "display_data"
    }
   ],
   "source": [
    "\n",
    "agent = Agent(state_size=8, action_size=4, seed=0)\n",
    "# load the weights from file\n",
    "agent.q_network_main.load_state_dict(torch.load('dddqn_checkpoint.pth', map_location=lambda storage, loc: storage))\n",
    "\n",
    "state = env.reset()\n",
    "#renderer\n",
    "img = plt.imshow(env.render(mode='rgb_array'))\n",
    "for j in range(200):\n",
    "    action_chosen = agent.action_selection(state)\n",
    "    img.set_data(env.render(mode='rgb_array')) \n",
    "    plt.axis('off')\n",
    "    display.display(plt.gcf())\n",
    "    display.clear_output(wait=True)\n",
    "    state, reward, done, _ = env.step(action_chosen)\n",
    "    if done:\n",
    "        break \n",
    "            \n",
    "env.close()"
   ]
  },
  {
   "cell_type": "code",
   "execution_count": null,
   "metadata": {},
   "outputs": [],
   "source": []
  }
 ],
 "metadata": {
  "kernelspec": {
   "display_name": "Python 3",
   "language": "python",
   "name": "python3"
  },
  "language_info": {
   "codemirror_mode": {
    "name": "ipython",
    "version": 3
   },
   "file_extension": ".py",
   "mimetype": "text/x-python",
   "name": "python",
   "nbconvert_exporter": "python",
   "pygments_lexer": "ipython3",
   "version": "3.7.4"
  }
 },
 "nbformat": 4,
 "nbformat_minor": 2
}
